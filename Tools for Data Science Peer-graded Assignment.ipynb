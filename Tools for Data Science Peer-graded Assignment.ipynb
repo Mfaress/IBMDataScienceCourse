{
  "metadata": {
    "language_info": {
      "codemirror_mode": {
        "name": "python",
        "version": 3
      },
      "file_extension": ".py",
      "mimetype": "text/x-python",
      "name": "python",
      "nbconvert_exporter": "python",
      "pygments_lexer": "ipython3",
      "version": "3.8"
    },
    "kernelspec": {
      "name": "python",
      "display_name": "Pyolite",
      "language": "python"
    }
  },
  "nbformat_minor": 4,
  "nbformat": 4,
  "cells": [
    {
      "cell_type": "markdown",
      "source": "# My Jupyter Notebook on IBM Watson Studio",
      "metadata": {}
    },
    {
      "cell_type": "markdown",
      "source": "**My Name is Mahmoud AlFares**   \nI am woking as Data conslutant & Anlaysis",
      "metadata": {}
    },
    {
      "cell_type": "markdown",
      "source": "*I am interested in data science because i want to learn more aboud data methodlogy,\nand I want to use Machile Learning Algortihm in data manapulation*",
      "metadata": {}
    },
    {
      "cell_type": "markdown",
      "source": "### In next code line, I want to explain how to add two numbers in simple way",
      "metadata": {}
    },
    {
      "cell_type": "code",
      "source": "1 + 1",
      "metadata": {
        "trusted": true
      },
      "execution_count": 1,
      "outputs": [
        {
          "execution_count": 1,
          "output_type": "execute_result",
          "data": {
            "text/plain": "2"
          },
          "metadata": {}
        }
      ]
    },
    {
      "cell_type": "markdown",
      "source": "Bullet List\n* Item 01\n\n* Item 02\n\n* Item 03\n\n\n\nNumbered List\n1. Item 01\n\n2. Item 02\n\n3. Item 03\n\n\n\n| ID | Name |  Gender |\n| ------ | ------ | ------ |\n| 111 | Mahmoud | Male |\n| 222 | Sara | Female |\n| 333 | Ali | Male |\n\n\nMy favorite Couse is **IBM Data Science Professional Certificate** (https://www.coursera.org/professional-certificates/ibm-data-science).\n",
      "metadata": {}
    }
  ]
}